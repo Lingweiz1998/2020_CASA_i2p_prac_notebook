{
 "cells": [
  {
   "cell_type": "markdown",
   "metadata": {},
   "source": [
    "<div style=\"float:left\">\n",
    "    <h1 style=\"width:450px\">Practical 4: Object-Oriented Programming</h1>\n",
    "    <h2 style=\"width:450px\">Getting to grips with Functions &amp; Packages</h2>\n",
    "</div>\n",
    "<div style=\"float:right\"><img width=\"100\" src=\"https://github.com/jreades/i2p/raw/master/img/casa_logo.jpg\" /></div>"
   ]
  },
  {
   "cell_type": "markdown",
   "metadata": {},
   "source": [
    "<div style=\"border: dotted 1px rgb(156,121,26); padding: 10px; margin: 5px; background-color: rgb(255,236,184); color: rgb(156,121,26)\"><i>Note</i>: You should download this notebook from GitHub and then save it to your own copy of the repository. I'd suggest adding it (<tt>git add ...</tt>) right away and then committing (<tt>git commit -m \"Some message\"</tt>). Do this again at the end of the class and you'll have a record of everything you did, then you can <tt>git push</tt> it to GitHub.</div>"
   ]
  },
  {
   "cell_type": "markdown",
   "metadata": {},
   "source": [
    "## Revisiting Task 4. Why 'Obvious' is Not Always 'Right'\n",
    "\n",
    "Task 4 in Practical 3 is hard, especially coming at the end of an already challenging practical. So I want to provide _another_ chance for the concepts to bed in before we use them as part of our exploratory work with the InsideAirbnb sample.\n",
    "\n",
    "##### A Dictionary of Lists to the Rescue\n",
    "\n",
    "Remember, if we don't really care about column order (and why would we, on one level?), then a dictionary of lists would be a nice way to handle things. And why should we care about column order? With our CSV files above we already saw what a pain it was to fix things when the layout of the columns changed from one data set to the next. If, instead, we can just reference the 'Description' column in the data set then it doesn't matter where that column actually is. Why is that? \n",
    "\n",
    "Well, here are four rows of 'data' for city sizes organised by _row_:"
   ]
  },
  {
   "cell_type": "code",
   "execution_count": null,
   "metadata": {},
   "outputs": [],
   "source": [
    "myData = [\n",
    "    ['id', 'Name', 'Rank', 'Longitude', 'Latitude', 'Population'], \n",
    "    ['1', 'Greater London', '1', '-18162.92767', '6711153.709', '9787426'], \n",
    "    ['2', 'Greater Manchester', '2', '-251761.802', '7073067.458', '2553379'], \n",
    "    ['3', 'West Midlands', '3', '-210635.2396', '6878950.083', '2440986']\n",
    "]\n",
    "\n",
    "# What cities are in the data set?\n",
    "col = myData[0].index('Name')\n",
    "cities = []\n",
    "for i in range(1,len(myData)):\n",
    "    cities.append(myData[i][col])\n",
    "print(\", \".join(cities))"
   ]
  },
  {
   "cell_type": "markdown",
   "metadata": {},
   "source": [
    "Compare that code to how it works as a dictionary of lists organised by _column_:"
   ]
  },
  {
   "cell_type": "code",
   "execution_count": null,
   "metadata": {},
   "outputs": [],
   "source": [
    "myData = {\n",
    "    'id'         : [0, 1, 2, 3, 4, 5],\n",
    "    'Name'       : ['Greater London', 'Greater Manchester', 'Birmingham','Edinburgh','Inverness','Lerwick'],\n",
    "    'Rank'       : [1, 2, 3, 4, 5, 6],\n",
    "    'Longitude'  : [-0.128, -2.245, -1.903, -3.189, -4.223, -1.145],\n",
    "    'Latitude'   : [51.507, 53.479, 52.480, 55.953, 57.478, 60.155],\n",
    "    'Population' : [9787426, 2705000, 1141816, 901455, 70000, 6958],\n",
    "}\n",
    "\n",
    "# What cities are in the data set?\n",
    "print(\", \".join(myData['Name']))"
   ]
  },
  {
   "cell_type": "markdown",
   "metadata": {},
   "source": [
    "See how even basic questions like \"Is Edinburgh in our list of data?\" are suddenly easy to answer? We no longer need to loop over the entire data set in order to find one data point. In addition, we know that everything in the 'Name' column will be a string, and that everything in the 'Longitude' column is a float, while the 'Population' column contains integers. So that's made life easier already. But let's test this out and see how it works."
   ]
  },
  {
   "cell_type": "markdown",
   "metadata": {},
   "source": [
    "Now let's look at what you can do with this... but first we need to import one _more_ package that you're going to see a _lot_ over the rest of term: `numpy` (Numerical Python), which is used _so_ much that most people simply refer to it as `np`. This is a _huge_ package in terms of features, but right now we're interested only in the basic arithmatic functions: `mean`, `max`, and `min`."
   ]
  },
  {
   "cell_type": "markdown",
   "metadata": {},
   "source": [
    "There's a _lot_ of content to process in the code below, so do _not_ rush blindly on if it is confusing. \n",
    "\n",
    "<div style=\"border: dotted 1px rgb(156,121,26); padding: 10px; margin: 5px; background-color: rgb(255,236,184)\"><i>Stop!</i>: Look closely at what is going on. Try pulling it apart into pieces and then reassembling it. Start with the bits that you understand and then <i>add</i> complexity.</div>\n",
    "\n",
    "We'll go through each one in turn, but they nearly all work in the same way and the really key thing is that you'll notice that we no longer have any loops (which are slow) just `index` or `np.<function>` (which is _very_ fast). "
   ]
  },
  {
   "cell_type": "markdown",
   "metadata": {},
   "source": [
    "#### The Population of Manchester\n",
    "\n",
    "The code can look pretty daunting, so let's break it down into parts:"
   ]
  },
  {
   "cell_type": "code",
   "execution_count": null,
   "metadata": {},
   "outputs": [],
   "source": [
    "city = 'Greater Manchester'\n",
    "pop = myData[??][ myData['Name'].index(??) ]\n",
    "print(f\"Manchester's population is {pop}\") # Notice how 'f-strings' work!"
   ]
  },
  {
   "cell_type": "markdown",
   "metadata": {},
   "source": [
    "Remember that this is a dictionary-of-lists (DoL). So:\n",
    "```python\n",
    "myData['Population']    # Returns a list of population values\n",
    "myData['Population'][0] # Returns the first element of that list\n",
    "```\n",
    "Does **that part** make sense?\n",
    "\n",
    "---\n",
    "\n",
    "Now, to the second part, we know that Manchester is at index position 1 in the list, but we don't want to hard-code this for every city, so we need to replace `0` with code that will look up the index of a city, and we can only get that my looking in `myData['Name']`:\n",
    "```python\n",
    "myData['Name'].index('Manchester')\n",
    "```\n",
    "\n",
    "Here we look in the dictionary for the key `Name` and find that that's _also_ a list (`['London','Manchester',...]`). All we're doing here is ask Python to find the index of 'Manchester' for us in that list. \n",
    "\n",
    "And `myData['Name'].index('Manchester')` gives us back a `1`, so _instead_ of just writing in a `1` into `myData['Population'][1]` we can replace `1` with `myData['Name'].index('Manchester')`! Notice the complete _absence_ of a for loop?"
   ]
  },
  {
   "cell_type": "markdown",
   "metadata": {},
   "source": [
    "#### The Easternmost City\n",
    "\n",
    "Because we are dealing with numeric values now we can also do useful things much more quickly like finding the first part of, say, a _bounding box_ (the East value)."
   ]
  },
  {
   "cell_type": "code",
   "execution_count": null,
   "metadata": {},
   "outputs": [],
   "source": [
    "city = myData['Name'][ myData['Longitude'].index( max(??) ) ]\n",
    "print(f\"The easternmost city is: {city}\")"
   ]
  },
  {
   "cell_type": "markdown",
   "metadata": {},
   "source": [
    "Again, we need to break this down into parts in order to understand it:\n",
    "1. We need to find the maximum _value_ of the longitude in the data set.\n",
    "2. We need to find the _index_ of this value.\n",
    "3. We use that index value to look up the name of the city.\n",
    "\n",
    "So, the pieces in code... \n",
    "```python\n",
    "myData['Longitude']      # The longitude data values\n",
    "myData['Longitude'][0]   # The first element of the list\n",
    "max(myData['Longitude']) # The maximum value in the list\n",
    "myData['Longitude'].index(...) # Search for a value in the list\n",
    "```\n",
    "Does **that part** make sense?\n",
    "\n",
    "---\n",
    "We can then think our way through this as we might with a maths equation and substitution:\n",
    "```python\n",
    "myData['Longitude'].index( max(myData['Longitude']) ) # The index of the maximum value of the list\n",
    "myData['Name'][0] # The first element in the city list\n",
    "\n",
    "# You can use whitespace to make this more legible\n",
    "myData['Name'][\n",
    "    myData['Longitude'].index( \n",
    "        max(myData['Longitude']) \n",
    "    )\n",
    "]\n",
    "\n",
    "# Or, once you're more comfortable with code:\n",
    "city = myData['Name'][ myData['Longitude'].index( max(myData['Longitude']) ) ]\n",
    "```\n",
    "Does **that part** make sense?\n",
    "\n",
    "---\n",
    "\n",
    "So to explain this in three steps, what we're doing is:\n",
    "* Finding the maximum value in the Longitude column (we know there must be one, but we don't know what it is!),\n",
    "* Finding the index (position) of that maximum value in the Longitude column (now that we know what the value is!),\n",
    "* Using that index to read a value out of the Name column.\n",
    "\n",
    "I _am_ a geek, but that's pretty cool, right? In one line of code we managed to quickly find out where the data we needed was even though it involved three discrete steps. Think about how much work you'd have to do if you were still thinking in _rows_, not _columns_!"
   ]
  },
  {
   "cell_type": "markdown",
   "metadata": {},
   "source": [
    "#### The Location of Lerwick\n",
    "\n",
    "This is 'just' variations on a theme since we're still using the same concepts of `index` and lists, what makes it hard is that there looks to be a _lot_ of code on one line:"
   ]
  },
  {
   "cell_type": "code",
   "execution_count": null,
   "metadata": {},
   "outputs": [],
   "source": [
    "city = \"Lerwick\"\n",
    "print(f\"The town of {city} can be found at \" + \n",
    "      f\"{abs(myData['Longitude'][myData['Name'].index(city)])}ºW, {myData['Latitude'][myData['Name'].index(city)]}ºN\")"
   ]
  },
  {
   "cell_type": "markdown",
   "metadata": {},
   "source": [
    "But always remember that you can rewrite this using whitespace and concatentation to make it easier for a human to read:"
   ]
  },
  {
   "cell_type": "code",
   "execution_count": null,
   "metadata": {},
   "outputs": [],
   "source": [
    "city = \"Lerwick\"\n",
    "print(f\"The town of {city} can be found at \" + \n",
    "      f\"{abs(myData['Longitude'][myData['Name'].index(city)])}ºW, \" +\n",
    "      f\"{myData['Latitude'][myData['Name'].index(city)]}ºN\")"
   ]
  },
  {
   "cell_type": "markdown",
   "metadata": {},
   "source": [
    "Or, you could even work it out this way first and _then_ combine the code as above:"
   ]
  },
  {
   "cell_type": "code",
   "execution_count": null,
   "metadata": {},
   "outputs": [],
   "source": [
    "city = \"Lerwick\"\n",
    "lat  = abs(\n",
    "    myData['Longitude'][\n",
    "        myData['Name'].index(city)\n",
    "    ]\n",
    ")\n",
    "lon  = myData['Latitude'][\n",
    "    myData['Name'].index(city)\n",
    "]\n",
    "\n",
    "print(f\"The town of {city} can be found at \" + \n",
    "      f\"{lat}ºW, \" +\n",
    "      f\"{lon}ºN\")"
   ]
  },
  {
   "cell_type": "markdown",
   "metadata": {},
   "source": [
    "Notice that have a `+` at the *end of the line* tells Python that it should carry on reading to the next line as part of the same command. That's a handy way to make your code a little easier to read! Same goes withg formatting a list: if it's getting a little long then you can *also* continue a line using a `,`!\n",
    "\n",
    "##### Recap of f-Strings\n",
    "\n",
    "In case you're rusty on how f-strings (`f\"<some text here>\"`) work, the first one will help you to make sense of the second: f-strings allow you to 'interpolate' code directly into a string rather than having to have lots of `str(x) + \" some text \" + str(y)`. You can write `f\"{x} some text {y}\"` and Python will automatically replace `{x}` with the _value of `x`_ and `{y}` with the _value of `y`_. \n",
    "\n",
    "So `f\"The town of {city} can be found at \"` becomes `f\"The town of Lerwick can be found at \"` because `{city}` is replaced by the value of the variable `city`. This makes for code that is easier for humans to read and so I'd consider that a good thing.\n",
    "\n",
    "##### Breaking it Down (Again)\n",
    "\n",
    "The second f-string _looks_ hard because there's a _lot_ of code there. But, again, if we start with what we recognise that it gets just a little bit more manageable... Also, it stands to reason that the only difference between the two outputs is that one asks for the 'Longitude' and the other for the 'Latitude'. So if you can make sense of one you have _automatically_ made sense of the other and don't need to work it all out.\n",
    "\n",
    "Let's start with a part that you might recognise:\n",
    "```python\n",
    "myData['Name'].index(city)\n",
    "```\n",
    "Does **that part** make sense?\n",
    "\n",
    "---\n",
    "\n",
    "You've _got_ this. This is just asking Python to work out the index of Lerwick (because `city = 'Lerwick'`). So it's a number. 5 in this case. And we can then think, 'OK so what does this return:\n",
    "```python \n",
    "myData['Longitude'][5]\n",
    "```\n",
    "And the answer is `-1.145`. That's the Longitude of Lerwick! There's just _one_ last thing: notice that we're talking about degrees West here. So the answer isn't a negative (because negative West degrees would be _East_!), it's the _absolute_ value. And that is the final piece of the puzzle: `abs(...)` gives us the absolute value of a number!\n",
    "\n",
    "Does **that part** make sense?\n",
    "\n",
    "---\n",
    "\n",
    "You could have [found `abs` yourself using Google](https://lmgtfy.app/?q=absolute+value+python)."
   ]
  },
  {
   "cell_type": "markdown",
   "metadata": {},
   "source": [
    "#### The Average City Size\n",
    "\n",
    "Here we're going to 'cheat' a little bit: rather than writing our own function, we're going to import a package and use someone _else's_ function. The `numpy` package contains a _lot_ of useful functions that we can call on (if you don't believe me, add \"`dir(np)`\" on a new line after the `import` statement), and one of them calculates the average of a list or array of data."
   ]
  },
  {
   "cell_type": "code",
   "execution_count": null,
   "metadata": {},
   "outputs": [],
   "source": [
    "import numpy as np\n",
    "\n",
    "mean = np.mean(??)\n",
    "print(f\"The mean population is: {mean}\")"
   ]
  },
  {
   "cell_type": "markdown",
   "metadata": {},
   "source": [
    "You _could_ also write this like:\n",
    "```python\n",
    "print(f\"The mean population is: {np.mean(myData['Population']}\")\n",
    "```\n",
    "There's no 'right' way here to write your code: putting it all on one line and not saving it to a temporary variable called 'mean' is slightly faster, but if you were going to use the mean to do other things (e.g. standardise the data) then it is a bit more clear what you're doing."
   ]
  },
  {
   "cell_type": "markdown",
   "metadata": {},
   "source": [
    "#### Standardising City Sizes\n",
    "\n",
    "To give you a sense of how scaleable this approach to data is, check out this neat little trick for working out z-scores for cities sizes:"
   ]
  },
  {
   "cell_type": "code",
   "execution_count": null,
   "metadata": {},
   "outputs": [],
   "source": [
    "# Use numpy functions to calculate mean and standard deviation\n",
    "mean = np.mean(myData['Population'])\n",
    "std  = np.std(myData['Population'])\n",
    "print(f\"City distribution has sample mean {mean} and sample standard deviation of {std:7.2f}.\")"
   ]
  },
  {
   "cell_type": "markdown",
   "metadata": {},
   "source": [
    "`numpy` gives us a way to calculate the mean and standard deviation _quickly_ and without having to reinvent the wheel. The other potentially new thing here is `{std:7.2f}`. This is about [string formatting](https://www.w3schools.com/python/ref_string_format.asp) and the main thing to recognise is that this means 'format this float with 7 digits to the left of the left of the decmial and 2 digits to the right'. The link I've provided uses the slightly older approach of `<str>.format()` but the formatting approach is the same.\n",
    "\n",
    "Does **that part** make sense?\n",
    "\n",
    "---\n",
    "\n",
    "Now we're going to see how the code `[x for x in list]` gives us a way to apply an operation (converting to string, subtracting a value, etc.) to every item in a list without writing out a full for loop. This basically gives us a one-line way to avoid writing:\n",
    "```python\n",
    "rs = []\n",
    "for x in myData['Population']:\n",
    "    rs.append((x-mean)/std)\n",
    "```\n",
    "So here code in the `for` loop is applied and the result automatically added to the output list."
   ]
  },
  {
   "cell_type": "code",
   "execution_count": null,
   "metadata": {},
   "outputs": [],
   "source": [
    "rs = [(x - mean)/?? for x in myData['Population']]\n",
    "myData['Std. Population'] = rs\n",
    "print(myData['Std. Population'])"
   ]
  },
  {
   "cell_type": "markdown",
   "metadata": {},
   "source": [
    "This should output:\n",
    "```\n",
    "[2.1579383252868527, 0.0791199354729932, -0.3797024575689938, -0.45025269939207097, -0.6942995760276591, -0.7128035277711219]\n",
    "```"
   ]
  },
  {
   "cell_type": "code",
   "execution_count": null,
   "metadata": {},
   "outputs": [],
   "source": [
    "print(\"City name: \" + \", \".join( myData['Name'] ))\n",
    "print(\"Raw population: \" + \", \".join( [str(x) for x in myData['Population']] ))\n",
    "print(\"Standardised population: \" + \", \".join( [f\"{x:4.3f}\" for x in myData['Std. Population']] ))"
   ]
  },
  {
   "cell_type": "markdown",
   "metadata": {},
   "source": [
    "This is where our new approach really comes into its own: because all of the population data is in one place (a.k.a. a _series_ or column), we can just throw the whole list into the `np.mean` function rather than having to use all of those convoluted loops and counters. Simples, right? \n",
    "\n",
    "No, not _simple_ at all conceptually, but we've come up with a way to _make_ it simple _as code_."
   ]
  },
  {
   "cell_type": "markdown",
   "metadata": {},
   "source": [
    "#### Brain Teaser\n",
    "\n",
    "Why not have a stab at writing the code to print out the _4th most populous_ city? This can _still_ be done on one line, though you might want to start by breaking the problem down:\n",
    "1. How do I find the _4th_ largest value in a list?\n",
    "2. How do I find the _index_ of the 4th largest value in a list?\n",
    "3. How do I use that to look up the name associated with that index?\n",
    "\n",
    "You've already done \\#2 and \\#3 above so you've _solved_ that problem. If you can solve \\#1 then the rest should fall into place.\n",
    "\n",
    "<div style=\"border: dotted 1px green; padding: 10px; margin: 5px; background-color: rgb(249,255,249);\"><i>Hint</i>: you don't want to use <tt>&lt;list&gt;.sort()</tt> because that will sort your data <i>in place</i> and break the link between the indexes across the 'columns'; you want to research the function <tt>sorted(&lt;list&gt;)</tt> where <tt>&lt;list&gt;</tt> is the variable that holds your data and `sorted(...)` just returns whatever you pass it in a sorted order <i>without</i> changing the original list. You'll see why this matters if you get the answer... otherwise, wait a few days for the answers to post.</div>"
   ]
  },
  {
   "cell_type": "code",
   "execution_count": null,
   "metadata": {},
   "outputs": [],
   "source": [
    "sorted(myData['Population'], reverse=True)"
   ]
  },
  {
   "cell_type": "code",
   "execution_count": null,
   "metadata": {},
   "outputs": [],
   "source": [
    "# Print out the name of the 4th most populous city-region\n",
    "\n",
    "# Find the fourth largest value\n",
    "fourth = sorted(myData['Population'], reverse=True)[??]\n",
    "print(fourth)\n",
    "\n",
    "# Find the index of the fourth largest value\n",
    "idx = myData['Population'].index(??)\n",
    "print(idx)\n",
    "\n",
    "# Find the city associated with that value\n",
    "city = myData['Name'][??]\n",
    "\n",
    "# And output\n",
    "print(\"The fourth most populous city is: \" + str(city))"
   ]
  },
  {
   "cell_type": "markdown",
   "metadata": {},
   "source": [
    "The answer is Edinburgh."
   ]
  },
  {
   "cell_type": "markdown",
   "metadata": {},
   "source": [
    "#### Recap!\n",
    "\n",
    "So the _really_ clever bit in all of this isn't switching from a list-of-lists to a dictionary-of-lists, it's recognising that the dictionary-of-lists is a _better_ way to work _with_ the data that we're trying to analyse and that that there are useful functions that we can exploit to do the heavy lifting for us. Simply by changing the way that we stored the data in a 'data structure' (i.e. complex arrangement of lists, dictionaries, and variables) we were able to do away with lots of for loops and counters and conditions, and reduce many difficult operations to something that could be done on one line! "
   ]
  },
  {
   "cell_type": "markdown",
   "metadata": {},
   "source": [
    "## Task 1. Creating a Set of Functions"
   ]
  },
  {
   "cell_type": "markdown",
   "metadata": {},
   "source": [
    "Let's start trying to put this all together by creating a a set of functions that will help us to:\n",
    "\n",
    "1. Download a file from a URL (checking if it has already _been_ downloaded to save bandwidth).\n",
    "2. Parse it as a CSV file and...\n",
    "3. Convert it to a Dictionary-of-Lists\n",
    "4.Perform some simple calculations using the resulting data.\n",
    "\n",
    "To be honest, there's not going to be much about writing our _own_ objects here, but we will be making use of them and, conceptually, an understanding of objects and classes is going to be super-useful for understanding what we're doing in the remainder of the term!"
   ]
  },
  {
   "cell_type": "markdown",
   "metadata": {},
   "source": [
    "#### Task 1.1: Start from Existing Code\n",
    "\n",
    "First, let's be sensibly lazy--we've already written code to read a file ([2020-08-24-sample-listings.csv](https://github.com/jreades/i2p/raw/master/data/2020-08-24-sample-listings.csv)) from the Internet and turn it into a list of lists. So I've copy+pasted that into the code block below since we're going to start from this point; however, just to help you check your own understanding, I've removed a few bits and replacement with `??`. Sorry. 😈"
   ]
  },
  {
   "cell_type": "code",
   "execution_count": null,
   "metadata": {},
   "outputs": [],
   "source": [
    "from urllib.request import urlopen\n",
    "import csv\n",
    "\n",
    "url = \"https://github.com/jreades/i2p/raw/master/data/2020-08-24-sample-listings.csv\"\n",
    "\n",
    "urlData = [] # Somewhere to store the data\n",
    "\n",
    "response = urlopen(url) # Get the data using the urlopen function\n",
    "csvfile  = csv.reader(response.read().decode('utf-8').splitlines()) # Pass it over to the reader\n",
    "\n",
    "for row in csvfile:\n",
    "    urlData.append(row)\n",
    "\n",
    "print(\"urlData has \" + str(len(urlData)) + \" rows and \" + str(len(urlData[0])) + \" columns.\")\n",
    "print(urlData[-1][:2]) # Check it worked!"
   ]
  },
  {
   "cell_type": "markdown",
   "metadata": {},
   "source": [
    "You should get `urlData has 101 rows and 26 columns.` and a row that looks like this: `['40373464', 'Modern, Small Double Private Room']`."
   ]
  },
  {
   "cell_type": "markdown",
   "metadata": {},
   "source": [
    "#### Task 1.2: Getting Organised\n",
    "\n",
    "Let's take the code above and modify it so that it is:\n",
    "\n",
    "1. A function that takes two arguments: a URL; and a destination filename.\n",
    "2. Implemented as a function that checks if a file exists already before downloading it again.\n",
    "\n",
    "You will find that the `os` module helps here because of the `path` function. And you will [need to Google](https://lmgtfy.app/?q=check+if+file+exists+python) how to test if a file exists. I would normally select a StackOverflow link in the results list over anything else because there will normally be an _explanation_ included of why a particular answer is a 'good one'. I also look at which answers got the most votes (not always the same as the one that was the 'accepted answer'). In this particular case, I also found [this answer](https://careerkarma.com/blog/python-check-if-file-exists/) useful.\n",
    "\n",
    "--- \n",
    "\n",
    "I would start by setting my inputs:"
   ]
  },
  {
   "cell_type": "code",
   "execution_count": null,
   "metadata": {},
   "outputs": [],
   "source": [
    "url = \"https://github.com/jreades/i2p/raw/master/data/2020-08-24-sample-listings.csv\"\n",
    "out = os.path.join('data','2020-08-24-sample-listings.csv')"
   ]
  },
  {
   "cell_type": "markdown",
   "metadata": {},
   "source": [
    "#### Task 1.3: Sketching Out a Function\n",
    "\n",
    "Then I would sketch out how my function will work using comments. And the simplest thing to start with is checking whether the file has already been downloaded:"
   ]
  },
  {
   "cell_type": "code",
   "execution_count": null,
   "metadata": {},
   "outputs": [],
   "source": [
    "from urllib.request import urlopen\n",
    "import csv\n",
    "import os\n",
    "\n",
    "def get_url(src, dest):\n",
    "    \n",
    "    # Check if dest does *not* exist -- that\n",
    "    # would mean we had to download it!\n",
    "    if not os.path.isfile(??):\n",
    "        print(f\"{??} not found!\")\n",
    "    else:\n",
    "        print(f\"Found {??}!\")\n",
    "        \n",
    "get_url(url, out)"
   ]
  },
  {
   "cell_type": "markdown",
   "metadata": {},
   "source": [
    "#### Task 1.4: Fleshing Out a Function \n",
    "\n",
    "I would then flesh out the code that checks if the data has been downloaded and ensure that both my if and else 'branches' return a list that I could then read using the CSV library:"
   ]
  },
  {
   "cell_type": "code",
   "execution_count": null,
   "metadata": {},
   "outputs": [],
   "source": [
    "from urllib.request import urlopen\n",
    "import csv\n",
    "import os\n",
    "\n",
    "def get_url(src, dest):\n",
    "    \n",
    "    # Check if dest does *not* exist -- that\n",
    "    # would mean we had to download it!\n",
    "    if not os.path.isfile(??):\n",
    "        print(f\"{??} not found, downloading!\")\n",
    "        \n",
    "        # Get the data using the urlopen function\n",
    "        response = urlopen(src) \n",
    "        filedata = response.read().decode('utf-8')\n",
    "        \n",
    "        # Extract the part of the dest(ination) that is *not*\n",
    "        # the actual filename--have a look at how \n",
    "        # os.path.split works using `help(os.path.split)`\n",
    "        path = list(os.path.split(dest)[:-1])\n",
    "        \n",
    "        # Create any missing directories in dest(ination) path\n",
    "        # -- os.path.join is the reverse of split (as you saw above)\n",
    "        # but it doesn't work with lists... so I had to google how \n",
    "        # to use the 'splat' operator! os.makedirs creates missing \n",
    "        # directories in a path automatically.\n",
    "        if len(path) >= 1 and path[0] != '':\n",
    "            os.makedirs(os.path.join(*path), exist_ok=True)\n",
    "        \n",
    "        # This would be how to write data to a file, \n",
    "        # but what should we write?\n",
    "        with open(dest, 'w') as f:\n",
    "            f.write(??)\n",
    "            \n",
    "    else:\n",
    "        print(f\"Found {??} locally!\")\n",
    "    \n",
    "    with open(dest, 'r') as f:\n",
    "        return f.read().splitlines()\n",
    "        \n",
    "# Using the `return contents` line we make it easy to \n",
    "# see what our function is up to.\n",
    "c = get_url(url, out)"
   ]
  },
  {
   "cell_type": "markdown",
   "metadata": {},
   "source": [
    "<div style=\"border: dotted 1px rgb(156,121,26); padding: 10px; margin: 5px; background-color: rgb(255,236,184)\"><i>Stop!</i> Notice that we don't try to check if the data file contains any useful data! So if you download or create an empty file while testing, you won't necessarily get an error until you try to turn it into data afterwards!</div>"
   ]
  },
  {
   "cell_type": "markdown",
   "metadata": {},
   "source": [
    "#### Task 1.5: Read a CSV file into a LoL"
   ]
  },
  {
   "cell_type": "markdown",
   "metadata": {},
   "source": [
    "Now we've taken care of whether or not the file has already been downloaded, we can focus on the next part of the problem! This will also use code from Task 2.1 in the Live Session."
   ]
  },
  {
   "cell_type": "code",
   "execution_count": null,
   "metadata": {},
   "outputs": [],
   "source": [
    "from urllib.request import urlopen\n",
    "import csv\n",
    "import os\n",
    "\n",
    "# Notice that it doesn't make sense to use `dest` as the \n",
    "# parameter name here because we always read *from* a data\n",
    "# source. Your names can be whatever you want, but they \n",
    "# should be logical wherever possible!\n",
    "def to_lol(lst):\n",
    "    \n",
    "    # Rest of code to read file and convert it goes here\n",
    "    csvdata = []\n",
    "    \n",
    "    # This is the same code that you used last week, but \n",
    "    # you'll have to rename some vars to get things to\n",
    "    # work for you here.\n",
    "    csvfile  = ??\n",
    "    for row in csvfile:              \n",
    "        csvdata.append( row )\n",
    "    \n",
    "    # Return list of lists\n",
    "    return ??\n",
    "        \n",
    "# Save the CSV-LoL to a new variable\n",
    "clol = to_lol(c)"
   ]
  },
  {
   "cell_type": "code",
   "execution_count": null,
   "metadata": {},
   "outputs": [],
   "source": [
    "print(f\"LoL has {len(clol)} rows and {len(clol[0])} columns.\")\n",
    "print(clol[0][:2])\n",
    "print(clol[-1][:2])"
   ]
  },
  {
   "cell_type": "markdown",
   "metadata": {},
   "source": [
    "You should get: \n",
    "```\n",
    "LoL has 101 rows and 26 columns.\n",
    "['id', 'name']\n",
    "['40373464', 'Modern, Small Double Private Room']\n",
    "```"
   ]
  },
  {
   "cell_type": "markdown",
   "metadata": {},
   "source": [
    "#### Task 1.6: Convert a LoL to a DoL\n",
    "\n",
    "We're going to assume that the first row of our LoL is always a _header_ (i.e. list of column names). If it's not then this code is going to have problems. A _robust_ function would allow us to specify column names when we create the data structure, but let's not get caught up in that level of detail just yet.\n",
    "\n",
    "Have a look at Task 2.3 from the Live Coding session to see how to fill this in... Notice that I've also, for the first time used the docstring support offered by Python. Once this function is working you'll be able to use `help(to_dol)` and get back the docstring help!"
   ]
  },
  {
   "cell_type": "code",
   "execution_count": null,
   "metadata": {},
   "outputs": [],
   "source": [
    "def to_dol(lol):\n",
    "    \"\"\"\n",
    "    Converts a list-of-lists (LoL) to a dict-of-lists (dol)\n",
    "    using the first element in the LoL to create column names.\n",
    "    \n",
    "    :param lol: a list-of-lists where each element of the list represents a row of data\n",
    "    :returns: a dict-of-lists\n",
    "    \"\"\"\n",
    "    # Create empty dict-of-lists\n",
    "    ds = {}\n",
    "\n",
    "    # I had a version of this code that used\n",
    "    # lol.pop(0) since it made the for loop\n",
    "    # easier to read. But I changed my mind...\n",
    "    #\n",
    "    # Can you think why?\n",
    "    col_names = lol[0]\n",
    "    # Write the code to create the keys and empty lists\n",
    "    ??\n",
    "\n",
    "    # Then values into a list attached to each key\n",
    "    # and write the code to append values to each list\n",
    "    for row in lol[1:]:\n",
    "        for c in range(0,len(col_names)):\n",
    "            ??\n",
    "            \n",
    "    return ds\n",
    "\n",
    "ds = to_dol(clol)"
   ]
  },
  {
   "cell_type": "code",
   "execution_count": null,
   "metadata": {},
   "outputs": [],
   "source": [
    "print(\", \".join(ds.keys()))\n",
    "print(ds['id'][:2])\n",
    "print(ds['name'][:2])\n",
    "print(ds['room_type'][:2])"
   ]
  },
  {
   "cell_type": "markdown",
   "metadata": {},
   "source": [
    "The answer should look like:\n",
    "```\n",
    "id, name, description, host_id, host_name, host_since, latitude, longitude, property_type, room_type, accommodates, bathrooms, bedrooms, beds, price, minimum_nights, maximum_nights, availability_30, availability_60, availability_90, availability_365, number_of_reviews, first_review, last_review, review_scores_rating, calculated_host_listings_count\n",
    "['25339003', '40259218']\n",
    "['An Amazing 4Bedroom Home, Central London, Sleeps12', 'Large Double Room - Maida Vale']\n",
    "['Entire home/apt', 'Private room']\n",
    "```"
   ]
  },
  {
   "cell_type": "markdown",
   "metadata": {},
   "source": [
    "#### Task 1.7: Convert Data Types on DoL\n",
    "\n",
    "You can just take the code we saw in the Live Coding session (Task 4.1), but you'll need to investigate the columns yourself in order to see what the appropraite values should be. I would suggest taking the _full_ version of the function where we check what `cdata` is so that we have one function that works for both strings and lists.\n",
    "\n",
    "Just to help get you started, here are the column names and you can create a `dtype` list to hold the _data type_ for each column."
   ]
  },
  {
   "cell_type": "code",
   "execution_count": null,
   "metadata": {},
   "outputs": [],
   "source": [
    "cols  = ['id', 'name', 'description', 'host_id', 'host_name', \n",
    "        'host_since', 'latitude', 'longitude', 'property_type', \n",
    "        'room_type', 'accommodates', 'bathrooms', 'bedrooms', 'beds', \n",
    "        'price', 'minimum_nights', 'maximum_nights', 'availability_30', \n",
    "        'availability_60', 'availability_90', 'availability_365', 'number_of_reviews', \n",
    "        'first_review', 'last_review', 'review_scores_rating', 'calculated_host_listings_count']\n",
    "dtype = [??]\n",
    "\n",
    "# 'Zips up' these two lists into an iterator list of tuples!\n",
    "# Note than you cannot save the output of zip directly because\n",
    "# you can only iterate through it once.\n",
    "for d in zip(cols, dtype):\n",
    "    # Notice the more advanced formatting here:\n",
    "    # - `>20` means right-align with up to 20 characters of whitespace; notice the last line!\n",
    "    # - `d[1].__name__` gives us the name of the data type, rather than a '<class...>' output.\n",
    "    print(f\"Column ({d[0]:>20}) is type: {d[1].__name__}\")"
   ]
  },
  {
   "cell_type": "markdown",
   "metadata": {},
   "source": [
    "Make sure tha tyou understand how this works:"
   ]
  },
  {
   "cell_type": "code",
   "execution_count": null,
   "metadata": {},
   "outputs": [],
   "source": [
    "# Convert the raw data to data of the appropriate\n",
    "# type: 'column data' (cdata) -> 'column type' (ctype)\n",
    "def to_type(cdata, ctype):\n",
    "    # If a string\n",
    "    if isinstance(cdata, str):\n",
    "        try:\n",
    "            if ctype==bool:\n",
    "                return cdata==True\n",
    "            else:\n",
    "                return ctype(cdata)\n",
    "        except TypeError:\n",
    "            return cdata\n",
    "    \n",
    "    # Not a string (assume list)\n",
    "    else: \n",
    "        fdata = []\n",
    "        for c in cdata:\n",
    "            try:\n",
    "                if ctype==bool:\n",
    "                    fdata.append( c=='True' )\n",
    "                else:\n",
    "                    fdata.append( ctype(c) )\n",
    "            except:\n",
    "                fdata.append( c )\n",
    "        return fdata"
   ]
  },
  {
   "cell_type": "code",
   "execution_count": null,
   "metadata": {},
   "outputs": [],
   "source": [
    "# Now apply this! We'll copy the data to \n",
    "# new data structure only so that we know\n",
    "# we're not overwriting `ds` until we're sure\n",
    "# that the code works.\n",
    "ds2 = {}\n",
    "for d in zip(cols, dtype):\n",
    "    ds2[ d[0] ] = to_type(ds[d[0]], d[1])"
   ]
  },
  {
   "cell_type": "code",
   "execution_count": null,
   "metadata": {},
   "outputs": [],
   "source": [
    "print(ds2['id'][:3])\n",
    "print(ds2['host_name'][:3])\n",
    "print(ds2['beds'][:3])\n",
    "print(ds2['availability_365'][:3])\n",
    "print(ds2['last_review'][:3])"
   ]
  },
  {
   "cell_type": "markdown",
   "metadata": {},
   "source": [
    "You should get the followg:\n",
    "```\n",
    "[25339003, 40259218, 20097666]\n",
    "['Emily', 'Mantas', 'Thanyawan']\n",
    "[9.0, 1.0, 1.0]\n",
    "[23, 365, 0]\n",
    "['2020-03-01', '2020-02-08', '']\n",
    "```"
   ]
  },
  {
   "cell_type": "markdown",
   "metadata": {},
   "source": [
    "#### Task 1.8: Checking Basic Functionality\n",
    "\n",
    "Let's see if our new data structure broadly works by testing out some of our previous operations:"
   ]
  },
  {
   "cell_type": "code",
   "execution_count": null,
   "metadata": {},
   "outputs": [],
   "source": [
    "import numpy as np # We'll need this"
   ]
  },
  {
   "cell_type": "code",
   "execution_count": null,
   "metadata": {},
   "outputs": [],
   "source": [
    "print(f\"Average availability over 365 days is {??}\")\n",
    "print(f\"Standard deviation on minimum nights is {??}\")\n",
    "print(f\"Median maximum nights is {??}\")"
   ]
  },
  {
   "cell_type": "markdown",
   "metadata": {},
   "source": [
    "But..."
   ]
  },
  {
   "cell_type": "code",
   "execution_count": null,
   "metadata": {},
   "outputs": [],
   "source": [
    "print(f\"Median price per night is {??}\")"
   ]
  },
  {
   "cell_type": "markdown",
   "metadata": {},
   "source": [
    "Why is this happening? Write some code below to check:"
   ]
  },
  {
   "cell_type": "code",
   "execution_count": null,
   "metadata": {},
   "outputs": [],
   "source": [
    "??"
   ]
  },
  {
   "cell_type": "markdown",
   "metadata": {},
   "source": [
    "#### Task 1.9: Putting It All Together\n",
    "\n",
    "Here's a clue for how to solve the 'price' data problem; you will need to combine it with something we've seen earlier that allows you to iterate over a list and apply the solution to every `x` in the 'price' column. If you are nearing the end of the 2-hour practical, then may skip this task for now and work on converting the functions to a package (next task below)."
   ]
  },
  {
   "cell_type": "code",
   "execution_count": null,
   "metadata": {},
   "outputs": [],
   "source": [
    "float(ds2[??][0].replace('$',''))"
   ]
  },
  {
   "cell_type": "markdown",
   "metadata": {},
   "source": [
    "## Task 2. Creating a Package from Functions\n",
    "\n",
    "Using or adapting as necessary the approach that we saw in the Live Coding session (Task 2 from Part 1) create a package called `dtools` by exporting the functions you've created above (only the final version of each, so don't export the one form Task 1.3 for instance) into a file called `__init__.py` that sits in the `dtools` directory."
   ]
  },
  {
   "cell_type": "code",
   "execution_count": null,
   "metadata": {},
   "outputs": [],
   "source": [
    "!mkdir -p ??"
   ]
  },
  {
   "cell_type": "code",
   "execution_count": null,
   "metadata": {},
   "outputs": [],
   "source": [
    "!jupyter nbconvert --ClearOutputPreprocessor.enabled=True \\\n",
    "    --to python --output=?? \\\n",
    "    ??"
   ]
  },
  {
   "cell_type": "markdown",
   "metadata": {},
   "source": [
    "Once you have tidied up the content of `dtools/__init__.py` you should be able to run the code below. You can actually edit the `init` file directly in Jupyter as a text file. You can compare this to the file I've created on GitHub."
   ]
  },
  {
   "cell_type": "code",
   "execution_count": null,
   "metadata": {},
   "outputs": [],
   "source": [
    "%load_ext autoreload\n",
    "%autoreload 2"
   ]
  },
  {
   "cell_type": "code",
   "execution_count": null,
   "metadata": {},
   "outputs": [],
   "source": [
    "import dtools\n",
    "help(to_dol)"
   ]
  },
  {
   "cell_type": "code",
   "execution_count": null,
   "metadata": {},
   "outputs": [],
   "source": [
    "url = 'https://github.com/jreades/i2p/raw/master/data/src/2019-sample-Crime.csv'\n",
    "out = os.path.join('data','crime-sample.csv')\n",
    "\n",
    "dlol = dtools.get_url(url, out)\n",
    "dlol = dtools.to_lol(dlol)\n",
    "ddol = dtools.to_dol(dlol)\n",
    "\n",
    "print(len(ddol.keys()))\n",
    "print(len(ddol['ID']))"
   ]
  },
  {
   "cell_type": "code",
   "execution_count": null,
   "metadata": {},
   "outputs": [],
   "source": [
    "print(ddol.keys())"
   ]
  }
 ],
 "metadata": {
  "kernelspec": {
   "display_name": "Python 3",
   "language": "python",
   "name": "python3"
  },
  "language_info": {
   "codemirror_mode": {
    "name": "ipython",
    "version": 3
   },
   "file_extension": ".py",
   "mimetype": "text/x-python",
   "name": "python",
   "nbconvert_exporter": "python",
   "pygments_lexer": "ipython3",
   "version": "3.7.8"
  }
 },
 "nbformat": 4,
 "nbformat_minor": 4
}
